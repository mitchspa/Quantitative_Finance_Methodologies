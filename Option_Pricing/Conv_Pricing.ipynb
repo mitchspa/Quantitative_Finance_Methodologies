{
 "cells": [
  {
   "cell_type": "markdown",
   "id": "0036b72c",
   "metadata": {},
   "source": [
    "# Aim of This Notebook"
   ]
  },
  {
   "cell_type": "markdown",
   "id": "3d9f9d24",
   "metadata": {},
   "source": [
    "### THEORY REFERENCE: Spitzer Identity, Wiener-Hopf Factorization and Pricing of Discretely Monitored Exotic Options by Fusai, Germano, Marazzina (May 18, 2016). European Journal of Operational Research."
   ]
  },
  {
   "cell_type": "markdown",
   "id": "0f10250e",
   "metadata": {},
   "source": [
    "The aim of this notebook is to provide an example of usage of convolution methodologies for plain vanilla option pricing. \n",
    "\n",
    "> Advantages: semi-closed formula ($\\to$fast), supports jumps diffusion or general Lévy processes (here just GBM and NIG are presented), supports barrier options (here Down and Out is presented).\n",
    "\n",
    "> Disadvantages: suitable only for plain vanilla and barrier options (at the best of my knowledge)."
   ]
  },
  {
   "cell_type": "code",
   "execution_count": 1,
   "id": "7095721d",
   "metadata": {},
   "outputs": [],
   "source": [
    "import numpy as np\n",
    "import matplotlib.pyplot as plt\n",
    "from scipy.fft import fft, ifft, fftshift, ifftshift\n",
    "from scipy.interpolate import interp1d\n",
    "\n",
    "class DOPricing:\n",
    "    def __init__(self, parameters):\n",
    "        self.parameters = parameters\n",
    "        self.parameters['dt'] = self.parameters['T'] / self.parameters['Ndate']\n",
    "\n",
    "    def charfunction(self, u, flag=0):\n",
    "        meancorrection = (self.parameters['rf'] - self.parameters['q']) * self.parameters['dt'] - np.log(self.charfunction0(-1j))\n",
    "        F = np.exp(1j * meancorrection * u) * self.charfunction0(u)\n",
    "        if flag == 0:\n",
    "            F = np.conj(F)\n",
    "        return F\n",
    "\n",
    "    def charfunction0(self, u):\n",
    "        dt = self.parameters['dt']\n",
    "        if self.parameters['distr'] == 'Normal':  # Normal\n",
    "            m = self.parameters['mu'] * dt\n",
    "            s = self.parameters['sigma'] * np.sqrt(dt)\n",
    "            F = np.exp(1j * u * m - 0.5 * (s * u) ** 2)\n",
    "        elif self.parameters['distr'] == 'Normal Inverse Gaussian':  # Normal inverse Gaussian (NIG)\n",
    "            alpha = self.parameters['alpha']\n",
    "            beta = self.parameters['beta']\n",
    "            delta = self.parameters['delta'] * dt\n",
    "            F = np.exp(-delta * (np.sqrt(alpha ** 2 - (beta + 1j * u) ** 2) - np.sqrt(alpha ** 2 - beta ** 2)))\n",
    "        return F\n",
    "\n",
    "    def kernel(self, ngrid, xmin, xmax, flag=0):\n",
    "        N = ngrid // 2\n",
    "        dx = (xmax - xmin) / ngrid\n",
    "        x = dx * np.arange(-N, N)\n",
    "        dw = 2 * np.pi / (xmax - xmin)\n",
    "        w = dw * np.arange(-N, N)\n",
    "        \n",
    "        H = self.charfunction(w, flag)\n",
    "        \n",
    "        return x, H\n",
    "\n",
    "    def CONV(self, S_0, K, B, N=2**14):\n",
    "        b = 2.5\n",
    "        x, H = self.kernel(N, -b, b)\n",
    "        S = S_0 * np.exp(x)\n",
    "        \n",
    "        v = np.maximum(S - K, 0) * (S > B)\n",
    "        H = ifftshift(H)\n",
    "        \n",
    "        for j in range(self.parameters['Ndate']):\n",
    "            v = np.real(fftshift(fft(ifft(ifftshift(v)) * H))) * np.exp(-self.parameters['rf'] * self.parameters['dt'])\n",
    "            v[S <= B] = 0\n",
    "        \n",
    "        index = np.where((S > 0.5 * S_0) & (S < 2 * S_0))\n",
    "        S = S[index]\n",
    "        v = v[index]\n",
    "        \n",
    "        return interp1d(S, v, kind='cubic')(S_0)"
   ]
  },
  {
   "cell_type": "code",
   "execution_count": 2,
   "id": "ce8e9015",
   "metadata": {},
   "outputs": [
    {
     "name": "stdout",
     "output_type": "stream",
     "text": [
      "Price: 9.344582439795257\n"
     ]
    }
   ],
   "source": [
    "# Usage Example\n",
    "parameters = {\n",
    "    'rf': 0.02,          # risk-free rate\n",
    "    'q': 0,              # dividend\n",
    "    'distr': 'Normal Inverse Gaussian',   # normal distribution\n",
    "    'alpha': 1,             \n",
    "    'beta': 0.2,       \n",
    "    'delta': 0.4,\n",
    "    'T': 1,              # maturity\n",
    "    'Ndate': 12          # number of dates\n",
    "}\n",
    "\n",
    "\n",
    "option_pricing = DOPricing(parameters)\n",
    "\n",
    "S_0 = 100\n",
    "K = 100\n",
    "B = 90\n",
    "\n",
    "price = option_pricing.CONV(S_0, K, B)\n",
    "\n",
    "print(\"Price:\", price)"
   ]
  }
 ],
 "metadata": {
  "kernelspec": {
   "display_name": "Python 3 (ipykernel)",
   "language": "python",
   "name": "python3"
  },
  "language_info": {
   "codemirror_mode": {
    "name": "ipython",
    "version": 3
   },
   "file_extension": ".py",
   "mimetype": "text/x-python",
   "name": "python",
   "nbconvert_exporter": "python",
   "pygments_lexer": "ipython3",
   "version": "3.10.9"
  }
 },
 "nbformat": 4,
 "nbformat_minor": 5
}
